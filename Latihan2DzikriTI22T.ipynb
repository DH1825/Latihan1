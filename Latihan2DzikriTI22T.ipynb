{
 "cells": [
  {
   "cell_type": "code",
   "execution_count": 108,
   "id": "459538f6",
   "metadata": {},
   "outputs": [
    {
     "name": "stdout",
     "output_type": "stream",
     "text": [
      "nama: Dzikri Hibatullah M\n",
      "kelas: TI22T\n",
      "Jurusan: Teknik Informstika\n",
      "Quotes: jika bisa sekarang kenapa harus nanti\n"
     ]
    }
   ],
   "source": [
    "name = \"Dzikri Hibatullah M\"\n",
    "kelas = \"TI22T\"\n",
    "Jurusan = \"Teknik Informstika\"\n",
    "Quotes = \"jika bisa sekarang kenapa harus nanti\"\n",
    "print(\"nama:\",nama)\n",
    "print(\"kelas:\",kelas)\n",
    "print(\"Jurusan:\",Jurusan)\n",
    "print(\"Quotes:\",Quotes)"
   ]
  },
  {
   "cell_type": "code",
   "execution_count": 9,
   "id": "adf2e62d",
   "metadata": {},
   "outputs": [
    {
     "name": "stdout",
     "output_type": "stream",
     "text": [
      "a: 1\n",
      "b: 2\n",
      "c: mantap\n",
      "d: 10\n",
      "e: 10\n",
      "f: 10\n"
     ]
    }
   ],
   "source": [
    "a,b,c = 1,2,\"mantap\"\n",
    "print(\"a:\",a)\n",
    "print(\"b:\",b)\n",
    "print(\"c:\",c)\n",
    "d = e = f = 10\n",
    "print(\"d:\",d)\n",
    "print(\"e:\",e)\n",
    "print(\"f:\",f)"
   ]
  },
  {
   "cell_type": "code",
   "execution_count": 11,
   "id": "713f51a6",
   "metadata": {},
   "outputs": [
    {
     "name": "stdout",
     "output_type": "stream",
     "text": [
      "<class 'str'>\n",
      "<class 'int'>\n"
     ]
    }
   ],
   "source": [
    "kota = \"Sukabumi\"\n",
    "nilai = 50\n",
    "print(type(kota))\n",
    "print(type(nilai))"
   ]
  },
  {
   "cell_type": "code",
   "execution_count": 18,
   "id": "7a3cbc77",
   "metadata": {},
   "outputs": [
    {
     "name": "stdout",
     "output_type": "stream",
     "text": [
      "5 * 10.5 = 52.5\n",
      "tipe dari variabel panjang <class 'int'>\n",
      "tipe dari variabel lebar <class 'float'>\n",
      "tipe dari variabel luas <class 'float'>\n"
     ]
    }
   ],
   "source": [
    "#ini menghitung luas persegi panjang\n",
    "panjang = 5\n",
    "lebar = 10.5\n",
    "luas = panjang * lebar\n",
    "print(panjang, \"*\",lebar, \"=\", luas)\n",
    "print(\"tipe dari variabel panjang\", type(panjang))\n",
    "print(\"tipe dari variabel lebar\", type(lebar))\n",
    "print(\"tipe dari variabel luas\", type(luas))"
   ]
  },
  {
   "cell_type": "code",
   "execution_count": 21,
   "id": "e2d947a1",
   "metadata": {},
   "outputs": [
    {
     "name": "stdout",
     "output_type": "stream",
     "text": [
      "luas segitiga= 25.0 cm^2\n"
     ]
    }
   ],
   "source": [
    "alas = 10\n",
    "tinggi = 5\n",
    "luas = 0.5 * alas * tinggi\n",
    "print(\"luas segitiga=\",luas,\"cm^2\")"
   ]
  },
  {
   "cell_type": "code",
   "execution_count": 36,
   "id": "1a042d41",
   "metadata": {},
   "outputs": [
    {
     "name": "stdout",
     "output_type": "stream",
     "text": [
      "umur= 18\n"
     ]
    }
   ],
   "source": [
    "#usia\n",
    "tahun_lahir = 2004\n",
    "tahun_sekarang = 2022\n",
    "umur = tahun_sekarang - tahun_lahir\n",
    "print(\"umur=\",umur)"
   ]
  },
  {
   "cell_type": "code",
   "execution_count": 35,
   "id": "62b1b6ad",
   "metadata": {},
   "outputs": [
    {
     "name": "stdout",
     "output_type": "stream",
     "text": [
      "Dzikri Hibatullah (18) , dari Cibadak ,kata mutiara: jika bisa melakukan sekarang kenapa harus nanti\n"
     ]
    }
   ],
   "source": [
    "#biodata\n",
    "nama_depan = \"Dzikri\"\n",
    "nama_belakang = \"Hibatullah\"\n",
    "nama_lengkap = nama_depan + \" \" + nama_belakang\n",
    "usia = \"18\"\n",
    "alamat = \"Cibadak\"\n",
    "kata_mutiara = \"jika bisa melakukan sekarang kenapa harus nanti\"\n",
    "print(nama_lengkap,\"(\"+usia+\")\",\",\",\"dari\",alamat,\",\"\"kata mutiara:\",kata_mutiara)"
   ]
  },
  {
   "cell_type": "code",
   "execution_count": 51,
   "id": "aee1d0e9",
   "metadata": {},
   "outputs": [
    {
     "name": "stdout",
     "output_type": "stream",
     "text": [
      "saya saya saya \n",
      "\n",
      " saya \n",
      " saya \n",
      " saya \n"
     ]
    }
   ],
   "source": [
    "print(\"saya \"*3)\n",
    "print(\"\\n saya \"*3)"
   ]
  },
  {
   "cell_type": "code",
   "execution_count": 61,
   "id": "8b0b344d",
   "metadata": {},
   "outputs": [
    {
     "name": "stdout",
     "output_type": "stream",
     "text": [
      "\n",
      " Dzikri \n",
      " slebew \n",
      " Teknik Informatika\n"
     ]
    }
   ],
   "source": [
    "print(\"\\n Dzikri\",\"\\n slebew\",\"\\n Teknik Informatika\")"
   ]
  },
  {
   "cell_type": "code",
   "execution_count": 75,
   "id": "ce54df56",
   "metadata": {},
   "outputs": [
    {
     "name": "stdout",
     "output_type": "stream",
     "text": [
      "nama saya\n",
      "Dzikri\n",
      "TI\n"
     ]
    }
   ],
   "source": [
    "\n",
    "print(\"\"\"nama saya\n",
    "Dzikri\n",
    "TI\"\"\")"
   ]
  },
  {
   "cell_type": "code",
   "execution_count": 79,
   "id": "4cbf2bc7",
   "metadata": {},
   "outputs": [
    {
     "name": "stdout",
     "output_type": "stream",
     "text": [
      "apakah saya orang indonesia= True\n",
      "apakah saya adalah robot False\n",
      "tipe dari saya_orang_indonesia <class 'bool'>\n",
      "tipe dari saya_adalah_robot <class 'bool'>\n"
     ]
    }
   ],
   "source": [
    "saya_orang_indonesia = True\n",
    "saya_adalah_robot = False\n",
    "print(\"apakah saya orang indonesia=\", saya_orang_indonesia)\n",
    "print(\"apakah saya adalah robot\", saya_adalah_robot)\n",
    "print(\"tipe dari saya_orang_indonesia\", type(saya_orang_indonesia))\n",
    "print(\"tipe dari saya_adalah_robot\", type(saya_adalah_robot))"
   ]
  },
  {
   "cell_type": "code",
   "execution_count": 93,
   "id": "22a90422",
   "metadata": {},
   "outputs": [
    {
     "ename": "SyntaxError",
     "evalue": "invalid syntax (1946227369.py, line 1)",
     "output_type": "error",
     "traceback": [
      "\u001b[1;36m  Input \u001b[1;32mIn [93]\u001b[1;36m\u001b[0m\n\u001b[1;33m    \"10 > 12\"| = False\u001b[0m\n\u001b[1;37m               ^\u001b[0m\n\u001b[1;31mSyntaxError\u001b[0m\u001b[1;31m:\u001b[0m invalid syntax\n"
     ]
    }
   ],
   "source": [
    "\"10 > 12\"| = False\n",
    "\"20_kurang dari_10\" = False\n",
    "A=a = False\n",
    "print(\"10_lebih_dari_12=\", 10>12)\n",
    "print(\"20_kurang dari_10\", B)\n",
    "print(\"A=a\", A)"
   ]
  },
  {
   "cell_type": "code",
   "execution_count": 103,
   "id": "bf90a22f",
   "metadata": {},
   "outputs": [
    {
     "name": "stdout",
     "output_type": "stream",
     "text": [
      "False\n",
      "False\n",
      "False\n"
     ]
    }
   ],
   "source": [
    "hasil = (10 > 12)\n",
    "hasil2 = (20 < 10)\n",
    "print(hasil)\n",
    "print(hasil2)\n",
    "print(\"A\" == \"a\")"
   ]
  },
  {
   "cell_type": "code",
   "execution_count": null,
   "id": "ee0e44fa",
   "metadata": {},
   "outputs": [],
   "source": []
  }
 ],
 "metadata": {
  "kernelspec": {
   "display_name": "Python 3 (ipykernel)",
   "language": "python",
   "name": "python3"
  },
  "language_info": {
   "codemirror_mode": {
    "name": "ipython",
    "version": 3
   },
   "file_extension": ".py",
   "mimetype": "text/x-python",
   "name": "python",
   "nbconvert_exporter": "python",
   "pygments_lexer": "ipython3",
   "version": "3.9.12"
  }
 },
 "nbformat": 4,
 "nbformat_minor": 5
}
