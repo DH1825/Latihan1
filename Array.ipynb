{
 "cells": [
  {
   "cell_type": "code",
   "execution_count": 14,
   "id": "2312e02d",
   "metadata": {},
   "outputs": [
    {
     "data": {
      "text/plain": [
       "array([0.4, 0.8, 1.2, 1.6])"
      ]
     },
     "execution_count": 14,
     "metadata": {},
     "output_type": "execute_result"
    }
   ],
   "source": [
    "import numpy as np\n",
    "arr = np.array([2,4,6,8])\n",
    "arr/5"
   ]
  },
  {
   "cell_type": "code",
   "execution_count": 23,
   "id": "f175e3c6",
   "metadata": {},
   "outputs": [
    {
     "data": {
      "text/plain": [
       "array([1, 0, 1, 0, 1, 0, 1, 0, 1, 0], dtype=int32)"
      ]
     },
     "execution_count": 23,
     "metadata": {},
     "output_type": "execute_result"
    }
   ],
   "source": [
    "import numpy as np\n",
    "list = np.array([1,2,3,4,5,6,7,8,9,10])\n",
    "\n",
    "list%2"
   ]
  },
  {
   "cell_type": "code",
   "execution_count": 38,
   "id": "5d86678c",
   "metadata": {},
   "outputs": [
    {
     "name": "stdout",
     "output_type": "stream",
     "text": [
      "dgdfd\n"
     ]
    }
   ],
   "source": [
    "cars = ['dsd','sdsads','dgdfd']\n",
    "print(cars[2])"
   ]
  },
  {
   "cell_type": "code",
   "execution_count": 42,
   "id": "13c57732",
   "metadata": {},
   "outputs": [
    {
     "name": "stdout",
     "output_type": "stream",
     "text": [
      "3\n"
     ]
    }
   ],
   "source": [
    "cars = ['BMW','Avanza','Toyota']\n",
    "cars[0] = 'Alphard'\n",
    "x = len(cars)\n",
    "print(x)"
   ]
  },
  {
   "cell_type": "code",
   "execution_count": 47,
   "id": "bd6f1247",
   "metadata": {},
   "outputs": [
    {
     "name": "stdout",
     "output_type": "stream",
     "text": [
      "Ford\n",
      "Volvo\n",
      "BMW\n",
      "Honda\n"
     ]
    }
   ],
   "source": [
    "cars = ['Ford','Volvo','BMW']\n",
    "cars.append(\"Honda\")\n",
    "for x in cars:\n",
    "  print(x)"
   ]
  },
  {
   "cell_type": "code",
   "execution_count": 87,
   "id": "621895aa",
   "metadata": {},
   "outputs": [
    {
     "name": "stdout",
     "output_type": "stream",
     "text": [
      "['Pasca', 'Riri', 'Neva', 'Najla', 'Caca']\n",
      "1\n",
      "['Pasca', 'Riri', 'Neva', 'Najla', 'Caca', 'Dzikri', 'Vicky', 'Aripin']\n"
     ]
    }
   ],
   "source": [
    "student = ['Pasca','Riri','Neva','Najla','Caca']\n",
    "other_student = ['Dzikri','Vicky','Aripin']\n",
    "x = student.copy()\n",
    "y = student.count('Riri')\n",
    "z = student.extend(other_student)\n",
    "print(x)\n",
    "print(y)\n",
    "print(student)"
   ]
  },
  {
   "cell_type": "code",
   "execution_count": 84,
   "id": "7bdd83ba",
   "metadata": {},
   "outputs": [
    {
     "name": "stdout",
     "output_type": "stream",
     "text": [
      "list in python [1, 2, 3, 4]\n",
      "numpy array from python [1 2 3 4]\n"
     ]
    }
   ],
   "source": [
    "import numpy as np \n",
    "list = [1,2,3,4]\n",
    "\n",
    "sample_numpy = np.array(list)\n",
    "\n",
    "print('list in python',list)\n",
    "print('numpy array from python',sample_numpy)"
   ]
  },
  {
   "cell_type": "code",
   "execution_count": 98,
   "id": "b6f2479c",
   "metadata": {},
   "outputs": [
    {
     "name": "stdout",
     "output_type": "stream",
     "text": [
      "['Reem' 'Salah' 'Omar' 'Maryam' 'Fatema']\n"
     ]
    }
   ],
   "source": [
    "import numpy as np\n",
    "\n",
    "names = np.array([\"Reem\" , \"Salah\" , \"Haya\" , \"Maryam\" , \"Fatema\"])\n",
    "\n",
    "names[2] = \"Omar\"\n",
    "\n",
    "print(names)"
   ]
  },
  {
   "cell_type": "code",
   "execution_count": 92,
   "id": "da536a92",
   "metadata": {},
   "outputs": [
    {
     "data": {
      "text/plain": [
       "array([[1],\n",
       "       [2],\n",
       "       [3]])"
      ]
     },
     "execution_count": 92,
     "metadata": {},
     "output_type": "execute_result"
    }
   ],
   "source": [
    "x = np.array([1,2,3])\n",
    "x\n",
    "x.reshape((3,1))"
   ]
  },
  {
   "cell_type": "code",
   "execution_count": 99,
   "id": "39652915",
   "metadata": {},
   "outputs": [
    {
     "name": "stdout",
     "output_type": "stream",
     "text": [
      "array('b', [10, 4, 5, 5])\n"
     ]
    }
   ],
   "source": [
    "import array as myarr\n",
    "\n",
    "no = myarr.array('b', [10, 4, 5, 5, 7])\n",
    "\n",
    "del no[4]\n",
    "\n",
    "print(no)"
   ]
  }
 ],
 "metadata": {
  "kernelspec": {
   "display_name": "Python 3 (ipykernel)",
   "language": "python",
   "name": "python3"
  },
  "language_info": {
   "codemirror_mode": {
    "name": "ipython",
    "version": 3
   },
   "file_extension": ".py",
   "mimetype": "text/x-python",
   "name": "python",
   "nbconvert_exporter": "python",
   "pygments_lexer": "ipython3",
   "version": "3.9.12"
  }
 },
 "nbformat": 4,
 "nbformat_minor": 5
}
