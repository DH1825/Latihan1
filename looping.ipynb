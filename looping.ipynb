{
 "cells": [
  {
   "cell_type": "code",
   "execution_count": 69,
   "id": "b856ae1c",
   "metadata": {
    "scrolled": true
   },
   "outputs": [
    {
     "name": "stdout",
     "output_type": "stream",
     "text": [
      "\n",
      "1 venus\n",
      "\n",
      "3 mars\n",
      "\n",
      "5 saturnus\n",
      "\n",
      "7 neptunus\n"
     ]
    }
   ],
   "source": [
    "planets = ['merkurius', 'venus', 'earth', 'mars', 'jupiter', 'saturnus', 'uranus', 'neptunus']\n",
    "\n",
    "for index, planet in enumerate(planets):\n",
    "    if index %2:\n",
    "        print(index,planet)\n",
    "    else :\n",
    "        print()"
   ]
  },
  {
   "cell_type": "code",
   "execution_count": 26,
   "id": "5e3af75d",
   "metadata": {},
   "outputs": [
    {
     "name": "stdout",
     "output_type": "stream",
     "text": [
      "aripin\n",
      "dzikri\n",
      "fadhlan\n",
      "vicky\n",
      "fajril\n",
      "abdul\n",
      "dah\n",
      "baiasy\n"
     ]
    }
   ],
   "source": [
    "names = ['aripin', 'dzikri', 'fadhlan', 'vicky', 'fajril', 'abdul', 'dah', 'baiasy']\n",
    "\n",
    "for names in names:\n",
    "    print(names)"
   ]
  },
  {
   "cell_type": "code",
   "execution_count": 68,
   "id": "484a49ef",
   "metadata": {},
   "outputs": [
    {
     "name": "stdout",
     "output_type": "stream",
     "text": [
      "0 merkurius\n",
      "1 venus\n",
      "2 earth\n",
      "3 mars\n",
      "4 jupiter\n",
      "5 saturnus\n",
      "6 uranus\n",
      "7 neptunus\n"
     ]
    }
   ],
   "source": [
    "planets = ['merkurius', 'venus', 'earth', 'mars', 'jupiter', 'saturnus', 'uranus', 'neptunus']\n",
    "\n",
    "for index, planet in enumerate(planets):\n",
    "    print(index,planet)"
   ]
  },
  {
   "cell_type": "code",
   "execution_count": 67,
   "id": "8938d34f",
   "metadata": {},
   "outputs": [
    {
     "name": "stdout",
     "output_type": "stream",
     "text": [
      "10\n",
      "9\n",
      "8\n",
      "7\n",
      "6\n",
      "5\n",
      "4\n",
      "3\n",
      "2\n",
      "1\n",
      "0\n"
     ]
    }
   ],
   "source": [
    "i=10\n",
    "while i >=0 :\n",
    "    print (i)\n",
    "    i-=1"
   ]
  },
  {
   "cell_type": "code",
   "execution_count": 74,
   "id": "4ca0ebb3",
   "metadata": {},
   "outputs": [
    {
     "name": "stdout",
     "output_type": "stream",
     "text": [
      "input string:quir=t\n",
      "length of a is 6\n",
      "input string:quit\n"
     ]
    }
   ],
   "source": [
    "while True:\n",
    "    a = input('input string:')\n",
    "    if a == \"quit\":\n",
    "        break\n",
    "    print('length of a is {}'.format(len(a)))"
   ]
  },
  {
   "cell_type": "code",
   "execution_count": 76,
   "id": "a52821eb",
   "metadata": {},
   "outputs": [
    {
     "name": "stdout",
     "output_type": "stream",
     "text": [
      "10\n",
      "9\n",
      "8\n",
      "7\n",
      "6\n",
      "5\n"
     ]
    }
   ],
   "source": [
    "i = 10\n",
    "while i>=0:\n",
    "    if i == 4:\n",
    "        break\n",
    "    print(i)\n",
    "    i-=1"
   ]
  },
  {
   "cell_type": "code",
   "execution_count": 82,
   "id": "5b530f6a",
   "metadata": {},
   "outputs": [
    {
     "name": "stdout",
     "output_type": "stream",
     "text": [
      "age: 5\n",
      "age: 5\n",
      "age: 5\n",
      "age: 5\n",
      "age: 5\n",
      "150000\n"
     ]
    }
   ],
   "source": [
    "total = 0\n",
    "viewers = 0\n",
    "\n",
    "while viewers < 5:\n",
    "    age = int(input('age: '))\n",
    "    if age > 3:\n",
    "        total += 30000\n",
    "    viewers += 1\n",
    "print(total)"
   ]
  }
 ],
 "metadata": {
  "kernelspec": {
   "display_name": "Python 3 (ipykernel)",
   "language": "python",
   "name": "python3"
  },
  "language_info": {
   "codemirror_mode": {
    "name": "ipython",
    "version": 3
   },
   "file_extension": ".py",
   "mimetype": "text/x-python",
   "name": "python",
   "nbconvert_exporter": "python",
   "pygments_lexer": "ipython3",
   "version": "3.9.12"
  }
 },
 "nbformat": 4,
 "nbformat_minor": 5
}
