{
 "cells": [
  {
   "cell_type": "code",
   "execution_count": 4,
   "id": "29381dbf",
   "metadata": {},
   "outputs": [
    {
     "name": "stdout",
     "output_type": "stream",
     "text": [
      "=== program nilai===\n",
      "masukan nilai:80\n",
      "selamat, anda lulus!\n",
      "tetap semangat, tingkatkan nilai kedepannya\n"
     ]
    }
   ],
   "source": [
    "print(\"=== program nilai===\")\n",
    "nilai = int(input(\"masukan nilai:\"))\n",
    "\n",
    "if nilai >= 80:\n",
    "    print(\"selamat, anda lulus!\")\n",
    "    \n",
    "print(\"tetap semangat, tingkatkan nilai kedepannya\")"
   ]
  },
  {
   "cell_type": "code",
   "execution_count": 12,
   "id": "b4eb1cc1",
   "metadata": {},
   "outputs": [
    {
     "name": "stdout",
     "output_type": "stream",
     "text": [
      "=== login ===\n",
      "masukan password:Dasar pemrograman\n",
      "Selamat Datang di Aplikasi\n",
      "terima kasih telah mempercayakan pada Aplikasi kami\n"
     ]
    }
   ],
   "source": [
    "print(\"=== login ===\")\n",
    "password = (input(\"masukan password:\"))\n",
    "if password == \"Dasar pemrograman\":\n",
    "    print(\"Selamat Datang di Aplikasi\")\n",
    "else:\n",
    "    print(\"password salah,coba lagi\")\n",
    "print(\"terima kasih telah mempercayakan pada Aplikasi kami\")"
   ]
  },
  {
   "cell_type": "code",
   "execution_count": 53,
   "id": "af9f53ac",
   "metadata": {},
   "outputs": [
    {
     "name": "stdout",
     "output_type": "stream",
     "text": [
      "=== program grade nilai\n",
      "inputkan nilai akhir: 95\n",
      "Grade anda:  A\n"
     ]
    }
   ],
   "source": [
    "print(\"=== program grade nilai\")\n",
    "nilai = int(input(\"inputkan nilai akhir: \"))\n",
    "if nilai >= 90:\n",
    "    grade = \"A\"\n",
    "elif nilai >= 80:\n",
    "    grade = \"B+\"\n",
    "elif nilai >= 70:\n",
    "    grade = \"B\"\n",
    "elif nilai >= 60:\n",
    "    grade = \"C+\"\n",
    "elif nilai >= 50:\n",
    "    grade = \"C\"\n",
    "elif nilai >= 40:\n",
    "    grade = \"D\"\n",
    "elif nilai >= 30:\n",
    "    grade = \"E\"\n",
    "else:\n",
    "    grade = \"F\"\n",
    "print(\"Grade anda: \",grade)"
   ]
  },
  {
   "cell_type": "code",
   "execution_count": 24,
   "id": "133f33a1",
   "metadata": {},
   "outputs": [
    {
     "name": "stdout",
     "output_type": "stream",
     "text": [
      "masukan nilai:2\n",
      "2 termasuk genap\n"
     ]
    }
   ],
   "source": [
    "nilai = int(input(\"masukan nilai:\"))\n",
    "if nilai>0:\n",
    "         if(nilai %2)==0:\n",
    "             print(nilai,\"termasuk genap\")\n",
    "         else:\n",
    "             print(nilai,\"termasuk ganjil\")\n",
    "else:\n",
    "    print(nilai,\"bukan bilangan positif\")"
   ]
  },
  {
   "cell_type": "code",
   "execution_count": 39,
   "id": "bf093818",
   "metadata": {},
   "outputs": [
    {
     "name": "stdout",
     "output_type": "stream",
     "text": [
      "masukan nama:adad\n",
      "masukan gender anda:tyftg\n",
      "waria adad\n"
     ]
    }
   ],
   "source": [
    "nama = input(\"masukan nama:\")\n",
    "gender = input(\"masukan gender anda:\")\n",
    "if gender == \"laki laki\":\n",
    "   gender = 'hai bro'\n",
    "elif gender == \"perempuan\":\n",
    "    gender = 'hai sis'\n",
    "else:\n",
    "    gender = 'waria'\n",
    "print(gender,nama)"
   ]
  },
  {
   "cell_type": "code",
   "execution_count": 52,
   "id": "fac8222e",
   "metadata": {},
   "outputs": [
    {
     "name": "stdout",
     "output_type": "stream",
     "text": [
      "masukan tanggal lahir: 2004\n",
      "generasi: Z\n"
     ]
    }
   ],
   "source": [
    "ttl = int(input(\"masukan tanggal lahir: \"))\n",
    "if ttl >= 1995:\n",
    "    generasi = \"Z\"\n",
    "elif ttl >= 1971:\n",
    "    generasi = \"Y\"\n",
    "elif ttl >= 1951:\n",
    "    generasi = \"X\"\n",
    "elif ttl >= 1944:\n",
    "    generasi = \"Boomer\"\n",
    "else:\n",
    "    generasi = \"tidak di anggap\"\n",
    "print(\"generasi:\",generasi)"
   ]
  },
  {
   "cell_type": "code",
   "execution_count": 60,
   "id": "0f891705",
   "metadata": {},
   "outputs": [
    {
     "name": "stdout",
     "output_type": "stream",
     "text": [
      "menentukan kelulusan\n",
      "nama mahasiswa: dzikri\n",
      "masukan nilai uts: 68\n",
      "masukan nilai uas: 4567\n",
      "selamat dzikri anda lulus\n"
     ]
    }
   ],
   "source": [
    "print(\"menentukan kelulusan\")\n",
    "nama = input(\"nama mahasiswa: \")\n",
    "nilai_uts = int(input(\"masukan nilai uts: \"))\n",
    "nilai_uas = int(input(\"masukan nilai uas: \"))\n",
    "if nilai_uas >= 68:\n",
    "    if nilai_uts >= 58:\n",
    "        print('selamat',nama,'anda lulus')\n",
    "    else:\n",
    "        print(nama,'lain kali teliti ya')\n",
    "else:\n",
    "    print(nama,'coba lagi')"
   ]
  },
  {
   "cell_type": "code",
   "execution_count": 71,
   "id": "fd68b4cc",
   "metadata": {},
   "outputs": [
    {
     "name": "stdout",
     "output_type": "stream",
     "text": [
      "Login\n",
      "username: dzikrihm25\n",
      "password: Nusaputraku\n",
      "selamat datang di Facebook\n"
     ]
    }
   ],
   "source": [
    "print(\"Login\")\n",
    "username = input(\"username: \")\n",
    "password = input(\"password: \")\n",
    "if username == 'dzikrihm25':\n",
    "    if password == 'Nusaputraku':\n",
    "        print('selamat datang di Facebook')\n",
    "    else:\n",
    "        print('password anda salah')\n",
    "else:\n",
    "    print('username anda salah')"
   ]
  },
  {
   "cell_type": "code",
   "execution_count": 75,
   "id": "5bd78829",
   "metadata": {},
   "outputs": [
    {
     "name": "stdout",
     "output_type": "stream",
     "text": [
      "skor: 120\n",
      "grade anda salah dengan predikat tidak ada\n"
     ]
    }
   ],
   "source": [
    "skor = int(input('skor: '))\n",
    "if skor >=90 and skor <=100:\n",
    "    grade = \"A\"\n",
    "    predicate = \"with compliments\"\n",
    "elif skor >= 80 and skor <= 89:\n",
    "    grade = \"B\"\n",
    "    predicate = \"very satisfy\"\n",
    "elif skor >= 70 and skor <= 79:\n",
    "    grade = 'C'\n",
    "    predicate = \"satisfying\"\n",
    "elif skor >= 60 and skor <= 69:\n",
    "    grade = \"D\"\n",
    "    predicate = \"not satisfactory\"\n",
    "elif skor >= 0 and skor <= 59:\n",
    "    grade = \"E\"\n",
    "    predicate = \"not pass\"\n",
    "else:\n",
    "    grade = \"salah\"\n",
    "    predicate = \"tidak ada\"\n",
    "print(\"grade anda\",grade,\"dengan predikat\",predicate)"
   ]
  }
 ],
 "metadata": {
  "kernelspec": {
   "display_name": "Python 3 (ipykernel)",
   "language": "python",
   "name": "python3"
  },
  "language_info": {
   "codemirror_mode": {
    "name": "ipython",
    "version": 3
   },
   "file_extension": ".py",
   "mimetype": "text/x-python",
   "name": "python",
   "nbconvert_exporter": "python",
   "pygments_lexer": "ipython3",
   "version": "3.9.12"
  }
 },
 "nbformat": 4,
 "nbformat_minor": 5
}
