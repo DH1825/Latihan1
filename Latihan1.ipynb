{
 "cells": [
  {
   "cell_type": "code",
   "execution_count": 5,
   "id": "e6391baf",
   "metadata": {},
   "outputs": [
    {
     "name": "stdout",
     "output_type": "stream",
     "text": [
      "Hello World\n",
      "I am Dzikri\n"
     ]
    }
   ],
   "source": [
    "print(\"Hello World\")\n",
    "print(\"I am Dzikri\")"
   ]
  },
  {
   "cell_type": "code",
   "execution_count": 7,
   "id": "f1d0debb",
   "metadata": {},
   "outputs": [
    {
     "name": "stdout",
     "output_type": "stream",
     "text": [
      "7\n"
     ]
    }
   ],
   "source": [
    "print(2+5)"
   ]
  },
  {
   "cell_type": "code",
   "execution_count": 12,
   "id": "759b75fd",
   "metadata": {},
   "outputs": [
    {
     "name": "stdout",
     "output_type": "stream",
     "text": [
      "hasil dari panjang * lebar adalah 50\n"
     ]
    }
   ],
   "source": [
    "panjang = 5\n",
    "lebar = 10\n",
    "print(\"hasil dari panjang * lebar adalah\", panjang*lebar)"
   ]
  },
  {
   "cell_type": "code",
   "execution_count": null,
   "id": "e205ccf6",
   "metadata": {},
   "outputs": [],
   "source": []
  }
 ],
 "metadata": {
  "kernelspec": {
   "display_name": "Python 3 (ipykernel)",
   "language": "python",
   "name": "python3"
  },
  "language_info": {
   "codemirror_mode": {
    "name": "ipython",
    "version": 3
   },
   "file_extension": ".py",
   "mimetype": "text/x-python",
   "name": "python",
   "nbconvert_exporter": "python",
   "pygments_lexer": "ipython3",
   "version": "3.9.12"
  }
 },
 "nbformat": 4,
 "nbformat_minor": 5
}
