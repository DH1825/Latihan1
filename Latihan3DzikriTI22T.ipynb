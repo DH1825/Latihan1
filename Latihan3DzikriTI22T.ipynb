{
 "cells": [
  {
   "cell_type": "code",
   "execution_count": 3,
   "id": "70e9192e",
   "metadata": {},
   "outputs": [
    {
     "name": "stdout",
     "output_type": "stream",
     "text": [
      "6 + 12 = 18\n",
      "6 - 12 = -6\n",
      "6 * 12 = 72\n",
      "6 / 12 = 0.5\n",
      "6 % 12 = 6\n",
      "6 ** 12 = 2176782336\n",
      "6 // 12 = 0\n"
     ]
    }
   ],
   "source": [
    "a,b = 6,12\n",
    "print(a, \"+\" ,b, \"=\" ,a+b)\n",
    "print(a, \"-\" ,b, \"=\" ,a-b)\n",
    "print(a, \"*\" ,b, \"=\" ,a*b)\n",
    "print(a, \"/\" ,b, \"=\" ,a/b)\n",
    "print(a, \"%\" ,b, \"=\" ,a%b)\n",
    "print(a, \"**\" ,b, \"=\" ,a**b)\n",
    "print(a, \"//\" ,b, \"=\" ,a//b)"
   ]
  },
  {
   "cell_type": "code",
   "execution_count": 7,
   "id": "ebf9ba94",
   "metadata": {},
   "outputs": [
    {
     "name": "stdout",
     "output_type": "stream",
     "text": [
      "soal latihan= 6.4\n"
     ]
    }
   ],
   "source": [
    "print(\"soal latihan=\",2*2**2/10+4+2**3/5)"
   ]
  },
  {
   "cell_type": "code",
   "execution_count": 19,
   "id": "54e06c27",
   "metadata": {},
   "outputs": [
    {
     "name": "stdout",
     "output_type": "stream",
     "text": [
      "a= 5\n",
      "a= 7\n",
      "a= 3\n",
      "a= 0.6\n",
      "a= 0.6\n"
     ]
    }
   ],
   "source": [
    "a = 5\n",
    "print(\"a=\",a)\n",
    "a += 2\n",
    "print(\"a=\",a)\n",
    "a -= 4\n",
    "print(\"a=\",a)\n",
    "a /= 5\n",
    "print(\"a=\",a)\n",
    "a %= 2\n",
    "print(\"a=\",a)"
   ]
  },
  {
   "cell_type": "code",
   "execution_count": 23,
   "id": "eee8cd0e",
   "metadata": {},
   "outputs": [
    {
     "name": "stdout",
     "output_type": "stream",
     "text": [
      "False\n",
      "True\n",
      "True\n",
      "False\n",
      "False\n",
      "True\n"
     ]
    }
   ],
   "source": [
    "a,b = 5,10\n",
    "print(a>b)\n",
    "print(a<b)\n",
    "print(a!=b)\n",
    "print(a==b)\n",
    "print(a>=b)\n",
    "print(a<=b)"
   ]
  },
  {
   "cell_type": "code",
   "execution_count": 43,
   "id": "1b633a0b",
   "metadata": {},
   "outputs": [
    {
     "name": "stdout",
     "output_type": "stream",
     "text": [
      "nilai_1 and nilai_2= False\n",
      "nilai_1 and nilai_3= True\n",
      "nilai_3 and nilai_2= False\n",
      "True\n",
      "False\n"
     ]
    }
   ],
   "source": [
    "nilai_1=True\n",
    "nilai_2=False\n",
    "nilai_3=True\n",
    "print(\"nilai_1 and nilai_2=\", (nilai_1 and nilai_2))\n",
    "print(\"nilai_1 and nilai_3=\", (nilai_1 and nilai_3))\n",
    "print(\"nilai_3 and nilai_2=\", (nilai_3 and nilai_2))\n",
    "print(False or 5>2)\n",
    "print(not(1<5))"
   ]
  },
  {
   "cell_type": "code",
   "execution_count": 44,
   "id": "c63f007c",
   "metadata": {},
   "outputs": [],
   "source": [
    "x,y,z = 100,10,68"
   ]
  },
  {
   "cell_type": "code",
   "execution_count": 47,
   "id": "4a5ed4d3",
   "metadata": {},
   "outputs": [
    {
     "name": "stdout",
     "output_type": "stream",
     "text": [
      "baju murah dan diskon= True\n",
      "baju tidak murah dan tidak diskon= False\n"
     ]
    }
   ],
   "source": [
    "laku = True\n",
    "tidak_laku = False\n",
    "print(\"baju murah dan diskon=\",laku)\n",
    "print(\"baju tidak murah dan tidak diskon=\", tidak_laku)"
   ]
  },
  {
   "cell_type": "code",
   "execution_count": 58,
   "id": "0d11e96b",
   "metadata": {},
   "outputs": [
    {
     "name": "stdout",
     "output_type": "stream",
     "text": [
      "baju murah dan diskon jadi laku= True\n",
      "baju tidak murah dan tidak diskon jadi tidak laku= False\n"
     ]
    }
   ],
   "source": [
    "murah= True\n",
    "diskon= True\n",
    "print(\"baju murah dan diskon jadi laku=\",(murah and diskon))\n",
    "print(\"baju tidak murah dan tidak diskon jadi tidak laku=\", (not(murah and diskon)))"
   ]
  },
  {
   "cell_type": "code",
   "execution_count": 63,
   "id": "6ed71268",
   "metadata": {},
   "outputs": [
    {
     "name": "stdout",
     "output_type": "stream",
     "text": [
      "True\n",
      "False\n",
      "True\n",
      "True\n",
      "False\n",
      "False\n"
     ]
    }
   ],
   "source": [
    "a      = 5\n",
    "b      = 5\n",
    "list_a = [1,2,3]\n",
    "list_b = [1,2,3]\n",
    "nama_a = \"budi\"\n",
    "nama_b = \"budi\"\n",
    "print(a is b)\n",
    "print(a is not b)\n",
    "print(list_a is not list_b)\n",
    "print(nama_a is nama_b)\n",
    "print(a is list_a)\n",
    "print(b is nama_b)"
   ]
  },
  {
   "cell_type": "code",
   "execution_count": 65,
   "id": "313b6101",
   "metadata": {},
   "outputs": [
    {
     "name": "stdout",
     "output_type": "stream",
     "text": [
      "False\n"
     ]
    }
   ],
   "source": [
    "warna = [\"hijau\",\"kuning\",\"merah\",\"biru\"]\n",
    "print(\"ungu\" in warna)"
   ]
  },
  {
   "cell_type": "code",
   "execution_count": 100,
   "id": "fbcce505",
   "metadata": {},
   "outputs": [
    {
     "name": "stdout",
     "output_type": "stream",
     "text": [
      "01100100\n"
     ]
    }
   ],
   "source": [
    "print(format(100, '08b'))"
   ]
  },
  {
   "cell_type": "code",
   "execution_count": 109,
   "id": "6af5783f",
   "metadata": {},
   "outputs": [
    {
     "name": "stdout",
     "output_type": "stream",
     "text": [
      "hello= 01101000\n"
     ]
    }
   ],
   "source": [
    "h=104\n",
    "e=65\n",
    "l=108\n",
    "l=108\n",
    "o=111\n",
    "print(\"hello=\",format(h,'08b'))"
   ]
  },
  {
   "cell_type": "code",
   "execution_count": 115,
   "id": "e933bd96",
   "metadata": {},
   "outputs": [
    {
     "name": "stdout",
     "output_type": "stream",
     "text": [
      "a) 00000000\n",
      "b) 00110100\n",
      "c) -1000101\n"
     ]
    }
   ],
   "source": [
    "x=100\n",
    "y=10\n",
    "z=68\n",
    "print(\"a)\",format(x&y&z,'08b'))\n",
    "print(\"b)\",format(x^y<<5>>2,'08b'))\n",
    "print(\"c)\",format(~x&~y|~z,'08b'))"
   ]
  }
 ],
 "metadata": {
  "kernelspec": {
   "display_name": "Python 3 (ipykernel)",
   "language": "python",
   "name": "python3"
  },
  "language_info": {
   "codemirror_mode": {
    "name": "ipython",
    "version": 3
   },
   "file_extension": ".py",
   "mimetype": "text/x-python",
   "name": "python",
   "nbconvert_exporter": "python",
   "pygments_lexer": "ipython3",
   "version": "3.9.12"
  }
 },
 "nbformat": 4,
 "nbformat_minor": 5
}
